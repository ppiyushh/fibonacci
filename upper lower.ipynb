{
 "cells": [
  {
   "cell_type": "code",
   "execution_count": 7,
   "id": "832250c3",
   "metadata": {},
   "outputs": [
    {
     "name": "stdout",
     "output_type": "stream",
     "text": [
      "Uppercase characters: 3\n",
      "Lowercase characters: 12\n"
     ]
    }
   ],
   "source": [
    "\n",
    "\n",
    "def up_low(string):\n",
    "    upper,lower = 0, 0\n",
    "    \n",
    "    for i in string:\n",
    "        #count lowercase characters\n",
    "        \n",
    "        if(i.islower()):\n",
    "            lower = lower + 1\n",
    "            \n",
    "        #count uppercase characters\n",
    "        elif(i.isupper()):\n",
    "            upper = upper + 1\n",
    "\n",
    "    print('Uppercase characters:',upper)\n",
    "    print('Lowercase characters:',lower)\n",
    "\n",
    "    \n",
    "\n",
    "up_low('The quick Brow Fox')\n"
   ]
  },
  {
   "cell_type": "code",
   "execution_count": null,
   "id": "46fea780",
   "metadata": {},
   "outputs": [],
   "source": []
  },
  {
   "cell_type": "code",
   "execution_count": null,
   "id": "0548f625",
   "metadata": {},
   "outputs": [],
   "source": []
  }
 ],
 "metadata": {
  "kernelspec": {
   "display_name": "Python 3 (ipykernel)",
   "language": "python",
   "name": "python3"
  },
  "language_info": {
   "codemirror_mode": {
    "name": "ipython",
    "version": 3
   },
   "file_extension": ".py",
   "mimetype": "text/x-python",
   "name": "python",
   "nbconvert_exporter": "python",
   "pygments_lexer": "ipython3",
   "version": "3.9.7"
  }
 },
 "nbformat": 4,
 "nbformat_minor": 5
}
