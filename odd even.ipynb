{
 "cells": [
  {
   "cell_type": "code",
   "execution_count": 4,
   "id": "315cf9bd",
   "metadata": {},
   "outputs": [
    {
     "name": "stdout",
     "output_type": "stream",
     "text": [
      "Number of even numbers:  4\n",
      "Number of odd numbers:  5\n"
     ]
    }
   ],
   "source": [
    "\n",
    "numbers=list(range(1,10))\n",
    "count=0\n",
    "odd_count=0\n",
    "for i in numbers:\n",
    "    if i%2==0:\n",
    "       count+=1\n",
    "    else:\n",
    "        odd_count+=1\n",
    "print('Number of even numbers: ',count)\n",
    "print('Number of odd numbers: ',odd_count)"
   ]
  },
  {
   "cell_type": "code",
   "execution_count": null,
   "id": "097fb9f8",
   "metadata": {},
   "outputs": [],
   "source": []
  }
 ],
 "metadata": {
  "kernelspec": {
   "display_name": "Python 3 (ipykernel)",
   "language": "python",
   "name": "python3"
  },
  "language_info": {
   "codemirror_mode": {
    "name": "ipython",
    "version": 3
   },
   "file_extension": ".py",
   "mimetype": "text/x-python",
   "name": "python",
   "nbconvert_exporter": "python",
   "pygments_lexer": "ipython3",
   "version": "3.9.7"
  }
 },
 "nbformat": 4,
 "nbformat_minor": 5
}
