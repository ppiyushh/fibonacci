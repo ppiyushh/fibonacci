{
 "cells": [
  {
   "cell_type": "code",
   "execution_count": 3,
   "id": "a6158560",
   "metadata": {},
   "outputs": [
    {
     "name": "stdout",
     "output_type": "stream",
     "text": [
      "enter words you wish to reverse - Edyoda\n",
      "the orignal words were Edyoda\n",
      "the reversed words are adoydE\n"
     ]
    }
   ],
   "source": [
    "words_reverse=input('enter words you wish to reverse - ')\n",
    "reverse=''\n",
    "for i in words_reverse:\n",
    "    reverse= i+reverse\n",
    "print('the orignal words were', words_reverse)\n",
    "print('the reversed words are', reverse)"
   ]
  },
  {
   "cell_type": "code",
   "execution_count": null,
   "id": "c3aa07a8",
   "metadata": {},
   "outputs": [],
   "source": []
  },
  {
   "cell_type": "code",
   "execution_count": null,
   "id": "a24fe7e1",
   "metadata": {},
   "outputs": [],
   "source": []
  }
 ],
 "metadata": {
  "kernelspec": {
   "display_name": "Python 3 (ipykernel)",
   "language": "python",
   "name": "python3"
  },
  "language_info": {
   "codemirror_mode": {
    "name": "ipython",
    "version": 3
   },
   "file_extension": ".py",
   "mimetype": "text/x-python",
   "name": "python",
   "nbconvert_exporter": "python",
   "pygments_lexer": "ipython3",
   "version": "3.9.7"
  }
 },
 "nbformat": 4,
 "nbformat_minor": 5
}
