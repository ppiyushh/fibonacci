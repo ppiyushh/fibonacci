{
 "cells": [
  {
   "cell_type": "code",
   "execution_count": 1,
   "id": "efc57cae",
   "metadata": {},
   "outputs": [
    {
     "name": "stdout",
     "output_type": "stream",
     "text": [
      "orignal list is : [(2, 5), (1, 2), (4, 4), (2, 3), (2, 1)]\n",
      "sorted list is: [(2, 1), (1, 2), (2, 3), (4, 4), (2, 5)]\n"
     ]
    }
   ],
   "source": [
    "a = [(2, 5), (1, 2), (4, 4), (2, 3), (2, 1)]\n",
    "print('orignal list is :',a)\n",
    "List2 =[]\n",
    "Sorted =[]\n",
    "\n",
    "for t in a:\n",
    "    \n",
    "    List2.append(t[1])\n",
    "\n",
    "List2.sort()\n",
    "\n",
    "for b in List2:\n",
    "    for i in a:\n",
    "        \n",
    "        if b == int(i[1]):\n",
    "            Sorted.append(i)\n",
    "            \n",
    "print('sorted list is:',Sorted)"
   ]
  },
  {
   "cell_type": "code",
   "execution_count": null,
   "id": "1324d4ed",
   "metadata": {},
   "outputs": [],
   "source": []
  }
 ],
 "metadata": {
  "kernelspec": {
   "display_name": "Python 3 (ipykernel)",
   "language": "python",
   "name": "python3"
  },
  "language_info": {
   "codemirror_mode": {
    "name": "ipython",
    "version": 3
   },
   "file_extension": ".py",
   "mimetype": "text/x-python",
   "name": "python",
   "nbconvert_exporter": "python",
   "pygments_lexer": "ipython3",
   "version": "3.9.7"
  }
 },
 "nbformat": 4,
 "nbformat_minor": 5
}
