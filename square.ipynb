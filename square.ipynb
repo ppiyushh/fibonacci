{
 "cells": [
  {
   "cell_type": "code",
   "execution_count": 3,
   "id": "de73360c",
   "metadata": {},
   "outputs": [
    {
     "name": "stdout",
     "output_type": "stream",
     "text": [
      "Original List:  [4, 5, 2, 9]\n",
      "Square the elements\n",
      "[16, 25, 4, 81]\n"
     ]
    }
   ],
   "source": [
    "def square_num(k):\n",
    "  return k * k\n",
    "nums = [4, 5, 2, 9]\n",
    "print(\"Original List: \",nums)\n",
    "result = map(square_num, nums)\n",
    "print(\"Square the elements\")\n",
    "print(list(result))"
   ]
  },
  {
   "cell_type": "code",
   "execution_count": null,
   "id": "ee934632",
   "metadata": {},
   "outputs": [],
   "source": []
  }
 ],
 "metadata": {
  "kernelspec": {
   "display_name": "Python 3 (ipykernel)",
   "language": "python",
   "name": "python3"
  },
  "language_info": {
   "codemirror_mode": {
    "name": "ipython",
    "version": 3
   },
   "file_extension": ".py",
   "mimetype": "text/x-python",
   "name": "python",
   "nbconvert_exporter": "python",
   "pygments_lexer": "ipython3",
   "version": "3.9.7"
  }
 },
 "nbformat": 4,
 "nbformat_minor": 5
}
